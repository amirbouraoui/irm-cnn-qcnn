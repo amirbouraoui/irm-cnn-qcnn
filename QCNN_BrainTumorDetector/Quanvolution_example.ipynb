{
 "cells": [
  {
   "cell_type": "markdown",
   "metadata": {
    "id": "flsf21MK3KTd"
   },
   "source": [
    "# Quanvolution (Quantum convolution) for MNIST image classification with [TorchQuantum](https://github.com/mit-han-lab/torchquantum).\n",
    "<p align=\"left\">\n",
    "<img src=\"https://github.com/mit-han-lab/torchquantum/blob/master/torchquantum_logo.jpg?raw=true\" alt=\"torchquantum Logo\" width=\"250\">\n",
    "</p>\n",
    "\n",
    "Tutorial Author: Zirui Li, Hanrui Wang\n"
   ]
  },
  {
   "cell_type": "markdown",
   "metadata": {
    "id": "mF5Ayfdg83rT"
   },
   "source": [
    "###Outline\n",
    "1. Introduction to Quanvolutional Neural Network.\n",
    "2. Build and train a Quanvolutional Neural Network.\n",
    "  - a.  Compare Quanvolutional Neural Network with a classic model.\n",
    "  - b. Evaluate on real quantum computer.\n",
    "3. Compare multiple models with or without a trainable quanvolutional filter."
   ]
  },
  {
   "cell_type": "markdown",
   "metadata": {
    "id": "QD-1NDsh-jTm"
   },
   "source": [
    "In this tutorial, we use `tq.QuantumDevice`, `tq.GeneralEncoder`, `tq.RandomLayer`, `tq.MeasureAll`, `tq.PauliZ` class from TrochQuantum.\n",
    "\n",
    "You can learn how to build, train and evaluate a quanvolutional filter using TorchQuantum in this tutorial."
   ]
  },
  {
   "cell_type": "markdown",
   "metadata": {
    "id": "qJv0wED75YTq"
   },
   "source": [
    "##Introduction to Quanvolutional Neural Network.\n",
    "###Convolutional Neural Network\n",
    "Convolutional neural network is a classic neural network genre, mostly applied to anylize visual images. They are known for their convolutional layers that perform convolution. Typically the convolution operation is the Frobenius inner product of the convolution filter with the input image followed by an activation function. The convolution filter slides along the input image and generates a feature map. We can use the feature map for classification.\n",
    "\n",
    "<div align=\"center\">\n",
    "<img src=\"https://github.com/mit-han-lab/torchquantum/blob/master/figs/conv-full-layer.gif?raw=true\" alt=\"conv-full-layer\" width=\"300\">\n",
    "</div>\n",
    "\n",
    "###Quantum convolution\n",
    "One can extend the same idea also to the context of quantum variational circuits. Replace the classical convolution filters with variational quantum circuits and we get quanvolutional neural networks with quanvolutional filters. The quanvolutional filters perform more complex operations in a higher dimension Hilbert space than Frobenius inner product. Therefore, quanvolutional filters have more potential than traditional convolution filters.\n",
    "\n",
    "<div align=\"center\">\n",
    "<img src=\"https://github.com/mit-han-lab/torchquantum/blob/master/figs/hybridmodel.png?raw=true\" alt=\"conv-full-layer\" width=\"800\">\n",
    "</div>"
   ]
  },
  {
   "cell_type": "markdown",
   "metadata": {
    "id": "Vi8LaD0p_5rm"
   },
   "source": [
    "##Build and train a Quanvolutional Neural Network."
   ]
  },
  {
   "cell_type": "markdown",
   "metadata": {
    "id": "pfwd2SNaOA4z"
   },
   "source": [
    "###Installation\n",
    "Install torchquantum and all the libs we need."
   ]
  },
  {
   "cell_type": "code",
   "execution_count": null,
   "metadata": {
    "colab": {
     "base_uri": "https://localhost:8080/"
    },
    "id": "azb47tvSiaBp",
    "outputId": "f0c4c497-aba5-479c-8979-3996db1174b6",
    "scrolled": true
   },
   "outputs": [],
   "source": [
    "%pip install qiskit"
   ]
  },
  {
   "cell_type": "markdown",
   "metadata": {
    "id": "F2-0UpluOIQl"
   },
   "source": [
    "Download and cd to the repo."
   ]
  },
  {
   "cell_type": "code",
   "execution_count": null,
   "metadata": {
    "colab": {
     "base_uri": "https://localhost:8080/"
    },
    "id": "6sNqLl9tjjAf",
    "outputId": "0521caf5-e275-4379-87f4-fdf3cce8cb5e"
   },
   "outputs": [],
   "source": [
    "!git clone https://github.com/mit-han-lab/torchquantum.git"
   ]
  },
  {
   "cell_type": "code",
   "execution_count": null,
   "metadata": {
    "colab": {
     "base_uri": "https://localhost:8080/"
    },
    "id": "0c2MCqFXjxkD",
    "outputId": "bde0ae24-ccf7-4d0f-d9fd-c45373d300ed"
   },
   "outputs": [],
   "source": [
    "%cd torchquantum"
   ]
  },
  {
   "cell_type": "markdown",
   "metadata": {
    "id": "PO1xLbaOOxWk"
   },
   "source": [
    "Install torch-quantum."
   ]
  },
  {
   "cell_type": "code",
   "execution_count": null,
   "metadata": {
    "colab": {
     "base_uri": "https://localhost:8080/"
    },
    "id": "3c6nfq3KkVXG",
    "outputId": "66d0d71e-9755-4db4-ccab-605afeeca03c",
    "scrolled": true
   },
   "outputs": [],
   "source": [
    "!pip install --editable ."
   ]
  },
  {
   "cell_type": "markdown",
   "metadata": {
    "id": "18tqleq4O3cX"
   },
   "source": [
    "Change PYTHONPATH and install other packages."
   ]
  },
  {
   "cell_type": "code",
   "execution_count": null,
   "metadata": {
    "colab": {
     "base_uri": "https://localhost:8080/"
    },
    "id": "d7ZPp7FikrZz",
    "outputId": "514f9e33-cc82-4ca8-daad-63c7971bd78d"
   },
   "outputs": [],
   "source": [
    "%env PYTHONPATH=."
   ]
  },
  {
   "cell_type": "code",
   "execution_count": null,
   "metadata": {
    "scrolled": true
   },
   "outputs": [],
   "source": [
    "%pip install qiskit-ibm-runtime \n",
    "%pip install git+https://github.com/Qiskit/qiskit-terra.git"
   ]
  },
  {
   "cell_type": "markdown",
   "metadata": {
    "id": "rhsBhV23PD4g"
   },
   "source": [
    "Run the following code to store a qiskit token. You can replace it with your own token from your IBMQ account if you like.\n",
    "\n"
   ]
  },
  {
   "cell_type": "code",
   "execution_count": null,
   "metadata": {
    "id": "Iw9rQ6dcnrhe",
    "scrolled": true
   },
   "outputs": [],
   "source": [
    "from qiskit_ibm_runtime import QiskitRuntimeService\n",
    "#from qiskit_ibm_runtime import QiskitRuntimeService\n",
    "#QiskitRuntimeService.save_account(channel=\"ibm_quantum\", token=\"0238b0afc0dc515fe7987b02706791d1719cb89b68befedc125eded0607e6e9e9f26d3eed482f66fdc45fdfceca3aab2edb9519d96b39e9c78040194b86e7858\", set_as_default=True)\n",
    "\n",
    "#IBMQ.save_account('0238b0afc0dc515fe7987b02706791d1719cb89b68befedc125eded0607e6e9e9f26d3eed482f66fdc45fdfceca3aab2edb9519d96b39e9c78040194b86e7858', overwrite=True)"
   ]
  },
  {
   "cell_type": "code",
   "execution_count": null,
   "metadata": {
    "colab": {
     "base_uri": "https://localhost:8080/"
    },
    "id": "Nvn9EkRH5fTs",
    "outputId": "9dc223b4-acbf-4fcc-9dc9-dd772d71eecc"
   },
   "outputs": [],
   "source": [
    "!pip install matplotlib==3.1.3"
   ]
  },
  {
   "cell_type": "code",
   "execution_count": null,
   "metadata": {
    "colab": {
     "base_uri": "https://localhost:8080/"
    },
    "id": "sTwecaw_YyCX",
    "outputId": "a6c02c27-8370-4d85-ba2f-664bbd6b3bc5"
   },
   "outputs": [],
   "source": [
    "!ls artifact"
   ]
  },
  {
   "cell_type": "code",
   "execution_count": null,
   "metadata": {
    "id": "SNWF7ZlbVwVZ"
   },
   "outputs": [],
   "source": [
    "!cp artifact/aerbackend.py ../../usr/local/lib/python3.7/dist-packages/qiskit/providers/aer/backends/ -r"
   ]
  },
  {
   "cell_type": "markdown",
   "metadata": {
    "id": "-42mdL8CG5Vi"
   },
   "source": [
    "### Step\n",
    "Our code requires torchquantum lib, mnist dataset, pytorch and numpy. We need torch and the logsoftmax function from `torch.nn.functional`, optimizers(`optim`), `torchquantum` module, MNIST dataset(`MNIST`), cosine annealing learning rate(`CosineAnnealingLR`).\n"
   ]
  },
  {
   "cell_type": "code",
   "execution_count": null,
   "metadata": {
    "id": "N5acspJ8G1n3"
   },
   "outputs": [],
   "source": [
    "import torch\n",
    "import torch.nn.functional as F\n",
    "import torch.optim as optim\n",
    "import numpy as np\n",
    "\n",
    "import torchquantum as tq\n",
    "import random\n",
    "\n",
    "from torchquantum.datasets import MNIST\n",
    "from torch.optim.lr_scheduler import CosineAnnealingLR"
   ]
  },
  {
   "cell_type": "markdown",
   "metadata": {
    "id": "QiOV-xIGKXVK"
   },
   "source": [
    "### Build a quanvolutional filter\n",
    "Our quanvolution model is a hybrid model. It consists of two parts, the quanvolutional filter part and the classical layer part. To build the model, firstly we define our quanvolutional filter.\n",
    "\n",
    "Our quanvolutional filter’s structure is the same as the figure described above. It has four qubits. The `tq.QuantumDevice` module stores the state vector. Usually a Quantum Neural Network module consists of three parts: encoder, ansatz and measurement. We can create an encoder by passing a list of gates to `tq.GeneralEncoder`. Each entry in the list contains `input_idx`, `func`, and `wires`. Here, each qubit has a rotation-Y gate. 4 RY gates in total. They can encode the 2x2 input data to the quantum state. Then we decide our ansatz to be a random layer. We call `tq.RandomLayer` to create an ansatz composed by 8 basic gates with no more than 8 trainable parameters. And finally we perform Pauli-Z measurements on each qubit by creating a `tq.MeasureAll` module and passing `tq.PauliZ` to it. The measure function will return four expectation values from four qubits. The four results go to four channels.\n",
    "\n",
    "Next look at how quanvolutional filter works. We get the batch size. Our image is 28x28. So we reshape our input data to `(bsz, 28, 28)`.\n",
    "\n",
    "We initialize the `data_list`. The list stores the outputs in each stride.\n",
    "\n",
    "The double loop is to iterate all the possible positions that the quanvolutional filter window may stride in. Here the stride is 2.\n",
    "\n",
    "Then we catenate the data in the 2x2 window. Here we catenate four lists to one big list, so we need to reshape the list to `(4, bsz)` and transpose it to `(bsz, 4)`.\n",
    "\n",
    "Next if you want to use qiskit’s remote noise model or real quantum machine, you can set `use_qiskit=True` and pass these 5 parameters: `q_device`, `encoder`, `q_layer`, `measure`, and `data`. The `qiskit_processor` will receive these parameters, put the data in the encoder, run the while circuits and return the measurement result. Remember only when the model is doing an inference can you use qiskit remote.\n",
    "\n",
    "If you are training or not using qiskit remote, you can run the three parts one by one on google colab’s GPU.\n",
    "\n",
    "After each stride, we append the measurement result to `data_list`.\n",
    "\n",
    "Finally, we catenate the `data_list` along dimension 1 and return the result.\n"
   ]
  },
  {
   "cell_type": "code",
   "execution_count": null,
   "metadata": {
    "id": "iBnWI5yqKfMB"
   },
   "outputs": [],
   "source": [
    "class QuanvolutionFilter(tq.QuantumModule):\n",
    "    def __init__(self):\n",
    "        super().__init__()\n",
    "        self.n_wires = 4\n",
    "        self.q_device = tq.QuantumDevice(n_wires=self.n_wires)\n",
    "        self.encoder = tq.GeneralEncoder(\n",
    "        [   {'input_idx': [0], 'func': 'ry', 'wires': [0]},\n",
    "            {'input_idx': [1], 'func': 'ry', 'wires': [1]},\n",
    "            {'input_idx': [2], 'func': 'ry', 'wires': [2]},\n",
    "            {'input_idx': [3], 'func': 'ry', 'wires': [3]},])\n",
    "\n",
    "        self.q_layer = tq.RandomLayer(n_ops=8, wires=list(range(self.n_wires)))\n",
    "        self.measure = tq.MeasureAll(tq.PauliZ)\n",
    "\n",
    "    def forward(self, x, use_qiskit=False):\n",
    "        bsz = x.shape[0]\n",
    "        size = 28\n",
    "        x = x.view(bsz, size, size)\n",
    "\n",
    "        data_list = []\n",
    "\n",
    "        for c in range(0, size, 2):\n",
    "            for r in range(0, size, 2):\n",
    "                data = torch.transpose(torch.cat((x[:, c, r], x[:, c, r+1], x[:, c+1, r], x[:, c+1, r+1])).view(4, bsz), 0, 1)\n",
    "                if use_qiskit:\n",
    "                    data = self.qiskit_processor.process_parameterized(\n",
    "                        self.q_device, self.encoder, self.q_layer, self.measure, data)\n",
    "                else:\n",
    "                    self.encoder(self.q_device, data)\n",
    "                    self.q_layer(self.q_device)\n",
    "                    data = self.measure(self.q_device)\n",
    "\n",
    "                data_list.append(data.view(bsz, 4))\n",
    "\n",
    "        result = torch.cat(data_list, dim=1).float()\n",
    "\n",
    "        return result\n"
   ]
  },
  {
   "cell_type": "markdown",
   "metadata": {
    "id": "KpVfJUezK7ny"
   },
   "source": [
    "### Build the whole hybrid model.\n",
    "\n",
    "Then we look at the whole model. The whole model consists of a `QuanvolutionFilter` and full connect layer(`torch.nn.Linear`). The size of input is 4\\*14\\*14 because a 28x28 image after quanvolutional filter turns into a 4 channel 14x14 feature. As the task is MNIST 10 digits classification, the size of output is 10. At last the model perform `F.logsoftmax` to the result for classification.\n",
    "\n",
    "<div align=\"center\">\n",
    "<img src=\"https://github.com/mit-han-lab/torchquantum/blob/master/figs/hybridmodel.png?raw=true\" alt=\"conv-full-layer\" width=\"800\">\n",
    "</div>\n",
    "\n",
    "Here, we also has a model without quanvolutional filters used for comparison. Its full connect layer’s input size is simple 28x28.\n",
    "\n",
    "<div align=\"center\">\n",
    "<img src=\"https://github.com/mit-han-lab/torchquantum/blob/master/figs/classicalmodel.png?raw=true\" alt=\"conv-full-layer\" width=\"400\">\n",
    "</div>"
   ]
  },
  {
   "cell_type": "code",
   "execution_count": null,
   "metadata": {
    "id": "UbhzYiGcK9xk"
   },
   "outputs": [],
   "source": [
    "class HybridModel(torch.nn.Module):\n",
    "    def __init__(self):\n",
    "        super().__init__()\n",
    "        self.qf = QuanvolutionFilter()\n",
    "        self.linear = torch.nn.Linear(4*14*14, 10)\n",
    "\n",
    "    def forward(self, x, use_qiskit=False):\n",
    "        with torch.no_grad():\n",
    "          x = self.qf(x, use_qiskit)\n",
    "        x = self.linear(x)\n",
    "        return F.log_softmax(x, -1)\n",
    "\n",
    "class HybridModel_without_qf(torch.nn.Module):\n",
    "    def __init__(self):\n",
    "        super().__init__()\n",
    "        self.linear = torch.nn.Linear(28*28, 10)\n",
    "\n",
    "    def forward(self, x, use_qiskit=False):\n",
    "        x = x.view(-1, 28*28)\n",
    "        x = self.linear(x)\n",
    "        return F.log_softmax(x, -1)"
   ]
  },
  {
   "cell_type": "markdown",
   "metadata": {
    "id": "AXwEp5SILF_Z"
   },
   "source": [
    "### Load the dataset MNIST\n",
    "We use MNIST classification dataset(10 digits and 1000 training samples).\n",
    "\n",
    "The `root` is the folder that stores the dataset. If there’s no MNIST dataset in root, it will automatically download MNIST.\n",
    "Next, we set the `train_valid_split_ratio`, `n_test_samples`, and `n_train_samples`.\n",
    "\n",
    "The dataset now contains three splits, 'train', 'valid' and 'test'. For each split, we create a dataloader with a random sampler, `batch_size` is 10, `num_workers` is 8 and `pin_memory` is true."
   ]
  },
  {
   "cell_type": "code",
   "execution_count": null,
   "metadata": {
    "colab": {
     "base_uri": "https://localhost:8080/",
     "height": 512,
     "referenced_widgets": [
      "ddcca6cc591f45a887f80bcc5d27ce13",
      "c8c570bdf96340c1bbf4e612f3d0c3c4",
      "30b8e4960e564891ad81ac242c228b25",
      "c46454929cae4e89976f42d9bc391a94",
      "ace3e747ccfd4f9f9faf46ce34936ce1",
      "d274e40c0adb4d3e80e8d1cf5ad475ee",
      "a8e8fb1c355445698cbc828dddffb9e5",
      "d312e5166b28438da2b9e91de91f0e09",
      "dc961678433f488babca027e197d2aa1",
      "5335eb0e67f84c85b9efacc7793d24fd",
      "34e1a2b9f934411090026a0ee98a3b5b",
      "23dbd6346f684afebcc4ea0d3e72a67e",
      "e85d5726a566462e962baa75f32074d6",
      "3b090dcf208c4822892a0afc2ba2e6a9",
      "d0a2f52a311541a686f592a985e1aac0",
      "41e329d1bd764c7cad4d2e834df50cd9",
      "5de520efee524ca28ed5b1b42861bef7",
      "b6d2f65a2e644523b7ecc6e3e9e17de3",
      "4abe9a5443514e00a536c839a9a5e04d",
      "b2ca643df597463dad1d5efe8abf64c4",
      "c168c7416db742f5bc74d45fe4a9bf05",
      "26d0390ad17048799741582271721a3e",
      "f314f3212d8f49468ccce3ad1cb8af6e",
      "694229176eb84488811763e57ccdbd9f",
      "32bd67ddf3a44b879cb123aa797627c0",
      "237d834d5fd74efa947683722d3e0e37",
      "29be09a9c5344928a9d2dda75ed8680c",
      "7584295a605c4a99a4dccce31be4cb2d",
      "e81b4f6589d649758fd2cd18da8ab35f",
      "f86c7ffecc394345a4eeb587cfd404d1",
      "c893fabe4af6410d837a0bd191df61d9",
      "f69883e80817409c9a10a2ec6d6ef68c",
      "45f166ea914e49c5bcf2ec39a649e351",
      "ae65786c8b1e4e789ecb72bcd6b9b211",
      "cfc67a5bebd247838d29b9babacbc103",
      "5953a85cd7334c828cf5005b2807fa41",
      "952170c8ff4d4fa9b7141d372b35cdd1",
      "7cbce63b72c843e9ad824dce59a7e2fb",
      "18acae4757154a10a7e2b9ebe4fbd53b",
      "364f865b5e334ac6add27ef1a32b8173",
      "e2b60171e7ca45bea357831419d2f9c6",
      "3f37e8639ddd4a6eac44420ce3275cd7",
      "1c75908cdb0d4909a266ef3f0184c13d",
      "393cc69622f3428fba3e10886e5ab65d"
     ]
    },
    "id": "taGjJMVcLN2L",
    "outputId": "3b8c1fcd-ade1-4530-d104-36b76b1341f7"
   },
   "outputs": [],
   "source": [
    "random.seed(42)\n",
    "np.random.seed(42)\n",
    "torch.manual_seed(42)\n",
    "dataset = MNIST(\n",
    "    root='./mnist_data',\n",
    "    train_valid_split_ratio=[0.9, 0.1],\n",
    "    n_test_samples=300,\n",
    "    n_train_samples=500,\n",
    ")\n",
    "dataflow = dict()\n",
    "\n",
    "for split in dataset:\n",
    "    sampler = torch.utils.data.RandomSampler(dataset[split])\n",
    "    dataflow[split] = torch.utils.data.DataLoader(\n",
    "        dataset[split],\n",
    "        batch_size=10,\n",
    "        sampler=sampler,\n",
    "        num_workers=8,\n",
    "        pin_memory=True)"
   ]
  },
  {
   "cell_type": "markdown",
   "metadata": {
    "id": "LpxOsZrRLUal"
   },
   "source": [
    "Then we set use_cuda, it depends on whether cuda is available.\n",
    "\n",
    "Create a device.\n",
    "\n",
    "Initialize the model, `n_epochs` to 15, Adam optimizer and cosine annealing learning rate scheduler.\n",
    "\n"
   ]
  },
  {
   "cell_type": "code",
   "execution_count": null,
   "metadata": {
    "id": "cmzcsyaCLZf_"
   },
   "outputs": [],
   "source": [
    "use_cuda = torch.cuda.is_available()\n",
    "device = torch.device(\"cuda\" if use_cuda else \"cpu\")\n",
    "model = HybridModel().to(device)\n",
    "model_without_qf = HybridModel_without_qf().to(device)\n",
    "n_epochs = 15\n",
    "optimizer = optim.Adam(model.parameters(), lr=5e-3, weight_decay=1e-4)\n",
    "scheduler = CosineAnnealingLR(optimizer, T_max=n_epochs)"
   ]
  },
  {
   "cell_type": "markdown",
   "metadata": {
    "id": "ckdg6zccLwF3"
   },
   "source": [
    "###Train the model.\n",
    "\n",
    "When training the model, we iterate the dataloader. Get the\t`inputs` and `targets` data. Feed `inputs` to the model and get `outputs`. Calculate the negative loss likelihood loss(`F.nll_loss`). Reset all the gradients of parameters in the model to zero. Call `loss.backward()` to perform backpropagation. Call `optimizer.step()` to update all the parameters.\n",
    "\n",
    "After each epoch, we will valid the model. In validation, we can use qiskit remote because we don’t need to calculate gradients.\n"
   ]
  },
  {
   "cell_type": "code",
   "execution_count": null,
   "metadata": {
    "colab": {
     "base_uri": "https://localhost:8080/"
    },
    "id": "xS7zGXVDLwuY",
    "outputId": "f7d7feb2-f4f7-447a-fb21-b39d2791cfa6"
   },
   "outputs": [],
   "source": [
    "accu_list1 = []\n",
    "loss_list1 = []\n",
    "accu_list2 = []\n",
    "loss_list2 = []\n",
    "\n",
    "def train(dataflow, model, device, optimizer):\n",
    "    for feed_dict in dataflow['train']:\n",
    "        inputs = feed_dict['image'].to(device)\n",
    "        targets = feed_dict['digit'].to(device)\n",
    "\n",
    "        outputs = model(inputs)\n",
    "        loss = F.nll_loss(outputs, targets)\n",
    "        optimizer.zero_grad()\n",
    "        loss.backward()\n",
    "        optimizer.step()\n",
    "        print(f\"loss: {loss.item()}\", end='\\r')\n",
    "\n",
    "\n",
    "def valid_test(dataflow, split, model, device, qiskit=False):\n",
    "    target_all = []\n",
    "    output_all = []\n",
    "    with torch.no_grad():\n",
    "        for feed_dict in dataflow[split]:\n",
    "            inputs = feed_dict['image'].to(device)\n",
    "            targets = feed_dict['digit'].to(device)\n",
    "\n",
    "            outputs = model(inputs, use_qiskit=qiskit)\n",
    "\n",
    "            target_all.append(targets)\n",
    "            output_all.append(outputs)\n",
    "        target_all = torch.cat(target_all, dim=0)\n",
    "        output_all = torch.cat(output_all, dim=0)\n",
    "\n",
    "    _, indices = output_all.topk(1, dim=1)\n",
    "    masks = indices.eq(target_all.view(-1, 1).expand_as(indices))\n",
    "    size = target_all.shape[0]\n",
    "    corrects = masks.sum().item()\n",
    "    accuracy = corrects / size\n",
    "    loss = F.nll_loss(output_all, target_all).item()\n",
    "\n",
    "    print(f\"{split} set accuracy: {accuracy}\")\n",
    "    print(f\"{split} set loss: {loss}\")\n",
    "\n",
    "    return accuracy, loss\n",
    "\n",
    "for epoch in range(1, n_epochs + 1):\n",
    "    # train\n",
    "    print(f\"Epoch {epoch}:\")\n",
    "    train(dataflow, model, device, optimizer)\n",
    "    print(optimizer.param_groups[0]['lr'])\n",
    "\n",
    "    # valid\n",
    "    accu, loss = valid_test(dataflow, 'test', model, device, )\n",
    "    accu_list1.append(accu)\n",
    "    loss_list1.append(loss)\n",
    "    scheduler.step()\n"
   ]
  },
  {
   "cell_type": "markdown",
   "metadata": {
    "id": "dJkRbcfNEFzh"
   },
   "source": [
    "Train the model without quanvolutional filters."
   ]
  },
  {
   "cell_type": "code",
   "execution_count": null,
   "metadata": {
    "colab": {
     "base_uri": "https://localhost:8080/"
    },
    "id": "maFOnvDd1PrX",
    "outputId": "c039a787-a3bf-4ee5-8c1f-512c09773a81"
   },
   "outputs": [],
   "source": [
    "optimizer = optim.Adam(model_without_qf.parameters(), lr=5e-3, weight_decay=1e-4)\n",
    "scheduler = CosineAnnealingLR(optimizer, T_max=n_epochs)\n",
    "for epoch in range(1, n_epochs + 1):\n",
    "    # train\n",
    "    print(f\"Epoch {epoch}:\")\n",
    "    train(dataflow, model_without_qf, device, optimizer)\n",
    "    print(optimizer.param_groups[0]['lr'])\n",
    "\n",
    "    # valid\n",
    "    accu, loss = valid_test(dataflow, 'test', model_without_qf, device)\n",
    "    accu_list2.append(accu)\n",
    "    loss_list2.append(loss)\n",
    "\n",
    "    scheduler.step()"
   ]
  },
  {
   "cell_type": "markdown",
   "metadata": {
    "id": "AGuWP25IEIS1"
   },
   "source": [
    "###Compare Quanvolutional Neural Network with classical model.\n",
    "\n",
    "After training, we can plot the accuracy and loss curve. We can see that model with quanvolutional filter can achieve slightly higher accuracy than model without quanvolution."
   ]
  },
  {
   "cell_type": "code",
   "execution_count": null,
   "metadata": {
    "colab": {
     "base_uri": "https://localhost:8080/",
     "height": 297
    },
    "id": "E_asswJ82Z2E",
    "outputId": "85b188d3-616b-4d50-d2ce-667c4dd05ff5"
   },
   "outputs": [],
   "source": [
    "%matplotlib inline\n",
    "import matplotlib.pyplot as plt\n",
    "import numpy as np\n",
    "import matplotlib\n",
    "\n",
    "fig, (ax1, ax2) = plt.subplots(2, 1, sharex=True)\n",
    "\n",
    "ax1.plot(accu_list1, label=\"with quanvolution filter\")\n",
    "ax1.plot(accu_list2, label=\"without quanvolution filter\")\n",
    "ax1.set_ylabel(\"Accuracy\")\n",
    "ax1.set_ylim([0.6, 1])\n",
    "ax1.set_xlabel(\"Epoch\")\n",
    "ax1.legend()\n",
    "\n",
    "ax2.plot(loss_list1, label=\"with quanvolution filter\")\n",
    "ax2.plot(loss_list2, label=\"without quanvolution filter\")\n",
    "ax2.set_ylabel(\"Loss\")\n",
    "ax2.set_ylim([0, 2])\n",
    "ax2.set_xlabel(\"Epoch\")\n",
    "ax2.legend()\n",
    "plt.tight_layout()\n",
    "plt.show()\n"
   ]
  },
  {
   "cell_type": "markdown",
   "metadata": {
    "id": "PMU08GNiEKTW"
   },
   "source": [
    "Here we can also see the image before quanvolutional filter and after quanvolutional filter."
   ]
  },
  {
   "cell_type": "code",
   "execution_count": null,
   "metadata": {
    "colab": {
     "base_uri": "https://localhost:8080/",
     "height": 690
    },
    "id": "710VuJZMJGGe",
    "outputId": "e02f51bf-08bb-4e71-9343-2ebe4bdef14c"
   },
   "outputs": [],
   "source": [
    "import matplotlib.pyplot as plt\n",
    "import matplotlib\n",
    "\n",
    "n_samples = 10\n",
    "n_channels = 4\n",
    "for feed_dict in dataflow['test']:\n",
    "  inputs = feed_dict['image'].to(device)\n",
    "  break\n",
    "sample = inputs[:n_samples]\n",
    "after_quanv = model.qf(sample).view(n_samples, 14*14, 4).cpu().detach().numpy()\n",
    "\n",
    "fig, axes = plt.subplots(1 + n_channels, n_samples, figsize=(10, 10))\n",
    "for k in range(n_samples):\n",
    "    axes[0, 0].set_ylabel(\"image\")\n",
    "    if k != 0:\n",
    "        axes[0, k].yaxis.set_visible(False)\n",
    "\n",
    "    norm = matplotlib.colors.Normalize(vmin=0, vmax=1)\n",
    "\n",
    "    axes[0, k].imshow(sample[k, 0, :, :].cpu(), norm=norm, cmap=\"gray\")\n",
    "\n",
    "    for c in range(n_channels):\n",
    "        axes[c + 1, 0].set_ylabel(\"channel {}\".format(c))\n",
    "        if k != 0:\n",
    "            axes[c, k].yaxis.set_visible(False)\n",
    "        axes[c + 1, k].imshow(after_quanv[k, :, c].reshape(14, 14), norm=norm, cmap=\"gray\")\n",
    "\n",
    "plt.tight_layout()\n",
    "plt.show()\n"
   ]
  },
  {
   "cell_type": "markdown",
   "metadata": {
    "id": "6Z_yKJ7WNKCQ"
   },
   "source": [
    "###Evaluate on real quantum computer.\n",
    "\n",
    "At last, we can run our quanvolutional filter on IBMQ’s real quantum machine. The process is really slow so I will not show it here. If you have higher priority access to IBMQ qiskit, you can check the code cell in installation and replace our token with your advance token. That will make the process faster."
   ]
  },
  {
   "cell_type": "code",
   "execution_count": null,
   "metadata": {
    "id": "mR6wlvcbMLwx"
   },
   "outputs": [],
   "source": [
    "# test\n",
    "valid_test(dataflow, 'test', model, device, qiskit=False)\n",
    "\n",
    "# run on Qiskit simulator and real Quantum Computers\n",
    "try:\n",
    "    from qiskit import IBMQ\n",
    "    from torchquantum.plugins import QiskitProcessor\n",
    "    # firstly perform simulate\n",
    "    print(f\"\\nTest with Qiskit Simulator\")\n",
    "    processor_simulation = QiskitProcessor(use_real_qc=False)\n",
    "    model.qf.set_qiskit_processor(processor_simulation)\n",
    "    valid_test(dataflow, 'test', model, device, qiskit=True)\n",
    "    # then try to run on REAL QC\n",
    "    backend_name = 'ibmq_quito'\n",
    "    print(f\"\\nTest on Real Quantum Computer {backend_name}\")\n",
    "    processor_real_qc = QiskitProcessor(use_real_qc=True,backend_name=backend_name)\n",
    "    model.qf.set_qiskit_processor(processor_real_qc)\n",
    "    valid_test(dataflow, 'test', model, device, qiskit=True)\n",
    "except ImportError:\n",
    "    print(\"Please install qiskit, create an IBM Q Experience Account and \"\n",
    "          \"save the account token according to the instruction at \"\n",
    "          \"'https://github.com/Qiskit/qiskit-ibmq-provider', \"\n",
    "          \"then try again.\")\n"
   ]
  },
  {
   "cell_type": "markdown",
   "metadata": {
    "id": "NkbKoXwfnwAC"
   },
   "source": [
    "## Trainable Quanvolutional Filter\n",
    "In this section, we consider the case that quanvolutional filters are trainable, and we compare various models with nearly the same number of trainale parameters. The four model compared here are described by the following figure.\n",
    "\n",
    "\n",
    "<div align=\"center\">\n",
    "<img src=\"https://github.com/mit-han-lab/torchquantum/blob/master/figs/4models.png?raw=true\" alt=\"conv-full-layer\" width=\"600\">\n",
    "</div>\n",
    "\n",
    "The Model1 contains a trainable quanvolutional filter and a fully connected layer.\n",
    "\n",
    "The Model2 contains a trainable quanvolutional filter and a quantum fully connected layer. We use `U3CU3Layer0` from `torchquantum.layers` to implement the QFC layer.\n",
    "\n",
    "When building the ansatz part of the QFC, we need to pass a dict describing the architecture of the ansatz. Here the dict is `{'n_wires': self.n_wires, 'n_blocks': 4, 'n_layers_per_block': 2}`, which means the ansatz contains n_wires qubits, there are 4 blocks and in each block are 2 layers. Passing the arch to `U3CU3Layer0` we will get a trainable ansatz with 4 blocks and in each block contains 4 U3 gates followed by 4 CU3 gates.\n",
    "\n",
    "The Model3 is simply a QFC layer.\n",
    "\n",
    "The Model4 is two fully connected layers.\n",
    "\n"
   ]
  },
  {
   "cell_type": "code",
   "execution_count": null,
   "metadata": {
    "id": "b46xdprmqcgK"
   },
   "outputs": [],
   "source": [
    "from torchquantum.encoding import encoder_op_list_name_dict\n",
    "from torchquantum.layers import U3CU3Layer0\n",
    "\n",
    "class TrainableQuanvFilter(tq.QuantumModule):\n",
    "    def __init__(self):\n",
    "        super().__init__()\n",
    "        self.n_wires = 4\n",
    "        self.q_device = tq.QuantumDevice(n_wires=self.n_wires)\n",
    "        self.encoder = tq.GeneralEncoder(\n",
    "        [   {'input_idx': [0], 'func': 'ry', 'wires': [0]},\n",
    "            {'input_idx': [1], 'func': 'ry', 'wires': [1]},\n",
    "            {'input_idx': [2], 'func': 'ry', 'wires': [2]},\n",
    "            {'input_idx': [3], 'func': 'ry', 'wires': [3]},])\n",
    "\n",
    "        self.arch = {'n_wires': self.n_wires, 'n_blocks': 5, 'n_layers_per_block': 2}\n",
    "        self.q_layer = U3CU3Layer0(self.arch)\n",
    "        self.measure = tq.MeasureAll(tq.PauliZ)\n",
    "\n",
    "    def forward(self, x, use_qiskit=False):\n",
    "        bsz = x.shape[0]\n",
    "        x = F.avg_pool2d(x, 6).view(bsz, 4, 4)\n",
    "        size = 4\n",
    "        stride = 2\n",
    "        x = x.view(bsz, size, size)\n",
    "\n",
    "        data_list = []\n",
    "\n",
    "        for c in range(0, size, stride):\n",
    "            for r in range(0, size, stride):\n",
    "                data = torch.transpose(torch.cat((x[:, c, r], x[:, c, r+1], x[:, c+1, r], x[:, c+1, r+1])).view(4, bsz), 0, 1)\n",
    "                if use_qiskit:\n",
    "                    data = self.qiskit_processor.process_parameterized(\n",
    "                        self.q_device, self.encoder, self.q_layer, self.measure, data)\n",
    "                else:\n",
    "                    self.encoder(self.q_device, data)\n",
    "                    self.q_layer(self.q_device)\n",
    "                    data = self.measure(self.q_device)\n",
    "\n",
    "                data_list.append(data.view(bsz, 4))\n",
    "\n",
    "        # transpose to (bsz, channel, 2x2)\n",
    "        result = torch.transpose(torch.cat(data_list, dim=1).view(bsz, 4, 4), 1, 2).float()\n",
    "\n",
    "        return result\n",
    "\n",
    "class QuantumClassifier(torch.nn.Module):\n",
    "    def __init__(self):\n",
    "        super().__init__()\n",
    "        self.n_wires = 4\n",
    "        self.q_device = tq.QuantumDevice(n_wires=4)\n",
    "        self.encoder = tq.GeneralEncoder(encoder_op_list_name_dict['4x4_ryzxy'])\n",
    "        self.arch = {'n_wires': self.n_wires, 'n_blocks': 8, 'n_layers_per_block': 2}\n",
    "        self.ansatz = U3CU3Layer0(self.arch)\n",
    "        self.measure = tq.MeasureAll(tq.PauliZ)\n",
    "\n",
    "    def forward(self, x, use_qiskit=False):\n",
    "        bsz = x.shape[0]\n",
    "        x = F.avg_pool2d(x, 6).view(bsz, 16)\n",
    "\n",
    "        if use_qiskit:\n",
    "            x = self.qiskit_processor.process_parameterized(\n",
    "                self.q_device, self.encoder, self.q_layer, self.measure, x)\n",
    "        else:\n",
    "            self.encoder(self.q_device, x)\n",
    "            self.ansatz(self.q_device)\n",
    "            x = self.measure(self.q_device)\n",
    "\n",
    "        return x\n",
    "\n",
    "class QFC(tq.QuantumModule):\n",
    "    def __init__(self):\n",
    "        super().__init__()\n",
    "        self.n_wires = 4\n",
    "        self.q_device = tq.QuantumDevice(n_wires=self.n_wires)\n",
    "        self.encoder = tq.GeneralEncoder(encoder_op_list_name_dict['4x4_ryzxy'])\n",
    "        self.arch = {'n_wires': self.n_wires, 'n_blocks': 4, 'n_layers_per_block': 2}\n",
    "\n",
    "        self.q_layer = U3CU3Layer0(self.arch)\n",
    "        self.measure = tq.MeasureAll(tq.PauliZ)\n",
    "\n",
    "    def forward(self, x, use_qiskit=False):\n",
    "        bsz = x.shape[0]\n",
    "        data = x\n",
    "        if use_qiskit:\n",
    "            data = self.qiskit_processor.process_parameterized(\n",
    "                self.q_device, self.encoder, self.q_layer, self.measure, data)\n",
    "        else:\n",
    "            self.encoder(self.q_device, data)\n",
    "            self.q_layer(self.q_device)\n",
    "            data = self.measure(self.q_device)\n",
    "        return data\n",
    "\n",
    "\n",
    "class Model1(torch.nn.Module):\n",
    "    def __init__(self):\n",
    "        super().__init__()\n",
    "        self.qf = TrainableQuanvFilter()\n",
    "        self.linear = torch.nn.Linear(16, 4)\n",
    "\n",
    "    def forward(self, x, use_qiskit=False):\n",
    "        x = x.view(-1, 28, 28)\n",
    "        x = self.qf(x)\n",
    "        x = x.reshape(-1, 16)\n",
    "        x = self.linear(x)\n",
    "        return F.log_softmax(x, -1)\n",
    "\n",
    "class Model2(torch.nn.Module):\n",
    "    def __init__(self):\n",
    "        super().__init__()\n",
    "        self.qf = TrainableQuanvFilter()\n",
    "        self.qfc = QFC()\n",
    "\n",
    "    def forward(self, x, use_qiskit=False):\n",
    "        x = x.view(-1, 28, 28)\n",
    "        x = self.qf(x)\n",
    "        x = x.reshape(-1, 16)\n",
    "        x = self.qfc(x)\n",
    "        return F.log_softmax(x, -1)\n",
    "\n",
    "class Model3(torch.nn.Module):\n",
    "    def __init__(self):\n",
    "        super().__init__()\n",
    "        self.qfc = QuantumClassifier()\n",
    "\n",
    "    def forward(self, x, use_qiskit=False):\n",
    "        x = self.qfc(x)\n",
    "        return F.log_softmax(x, -1)\n",
    "\n",
    "class Model4(torch.nn.Module):\n",
    "    def __init__(self):\n",
    "        super().__init__()\n",
    "        self.linear1 = torch.nn.Linear(16, 9)\n",
    "        self.linear2 = torch.nn.Linear(9, 4)\n",
    "\n",
    "    def forward(self, x, use_qiskit=False):\n",
    "        x = x.view(-1, 28, 28)\n",
    "        bsz = x.shape[0]\n",
    "        x = F.avg_pool2d(x, 6).view(bsz, 16)\n",
    "\n",
    "        x = self.linear1(x)\n",
    "        x = self.linear2(x)\n",
    "        return F.log_softmax(x, -1)"
   ]
  },
  {
   "cell_type": "markdown",
   "metadata": {
    "id": "PkTvypANsRIL"
   },
   "source": [
    "Here we do the MNIST 4 classification tasks."
   ]
  },
  {
   "cell_type": "code",
   "execution_count": null,
   "metadata": {
    "id": "veZRy9L-sKBC"
   },
   "outputs": [],
   "source": [
    "dataset = MNIST(\n",
    "    root='./mnist_data',\n",
    "    train_valid_split_ratio=[0.9, 0.1],\n",
    "    digits_of_interest=[0, 1, 2, 3],\n",
    "    n_test_samples=300,\n",
    "    n_train_samples=500,\n",
    ")\n",
    "\n",
    "dataflow = dict()\n",
    "for split in dataset:\n",
    "    sampler = torch.utils.data.RandomSampler(dataset[split])\n",
    "    dataflow[split] = torch.utils.data.DataLoader(\n",
    "        dataset[split],\n",
    "        batch_size=10,\n",
    "        sampler=sampler,\n",
    "        num_workers=8,\n",
    "        pin_memory=True)"
   ]
  },
  {
   "cell_type": "code",
   "execution_count": null,
   "metadata": {
    "id": "kDvJ7RmcsqAy"
   },
   "outputs": [],
   "source": [
    "use_cuda = torch.cuda.is_available()\n",
    "device = torch.device(\"cuda\" if use_cuda else \"cpu\")\n",
    "accus = []\n",
    "\n",
    "model_list = [Model1().to(device), Model2().to(device), Model3().to(device), Model4().to(device)]\n",
    "for model in model_list:\n",
    "  n_epochs = 15\n",
    "\n",
    "  optimizer = optim.Adam(model.parameters(), lr=5e-3, weight_decay=1e-4)\n",
    "  scheduler = CosineAnnealingLR(optimizer, T_max=n_epochs)\n",
    "  for epoch in range(1, n_epochs + 1):\n",
    "      # train\n",
    "      print(f\"Epoch {epoch}:\")\n",
    "      train(dataflow, model, device, optimizer)\n",
    "      print(optimizer.param_groups[0]['lr'])\n",
    "      # valid\n",
    "      accu, loss = valid_test(dataflow, 'test', model, device)\n",
    "      scheduler.step()\n",
    "  accus.append(accu)"
   ]
  },
  {
   "cell_type": "code",
   "execution_count": null,
   "metadata": {
    "id": "wXfgOqfr42sx"
   },
   "outputs": [],
   "source": [
    "for i, accu in enumerate(accus):\n",
    "  print('accuracy of model{0}: {1}'.format(i+1, accu))"
   ]
  }
 ],
 "metadata": {
  "accelerator": "GPU",
  "colab": {
   "collapsed_sections": [
    "pfwd2SNaOA4z"
   ],
   "provenance": []
  },
  "kernelspec": {
   "display_name": "Python (BTD)",
   "language": "python",
   "name": "btd"
  },
  "language_info": {
   "codemirror_mode": {
    "name": "ipython",
    "version": 3
   },
   "file_extension": ".py",
   "mimetype": "text/x-python",
   "name": "python",
   "nbconvert_exporter": "python",
   "pygments_lexer": "ipython3",
   "version": "3.11.11"
  },
  "widgets": {
   "application/vnd.jupyter.widget-state+json": {
    "18acae4757154a10a7e2b9ebe4fbd53b": {
     "model_module": "@jupyter-widgets/controls",
     "model_module_version": "1.5.0",
     "model_name": "DescriptionStyleModel",
     "state": {
      "_model_module": "@jupyter-widgets/controls",
      "_model_module_version": "1.5.0",
      "_model_name": "DescriptionStyleModel",
      "_view_count": null,
      "_view_module": "@jupyter-widgets/base",
      "_view_module_version": "1.2.0",
      "_view_name": "StyleView",
      "description_width": ""
     }
    },
    "1c75908cdb0d4909a266ef3f0184c13d": {
     "model_module": "@jupyter-widgets/controls",
     "model_module_version": "1.5.0",
     "model_name": "DescriptionStyleModel",
     "state": {
      "_model_module": "@jupyter-widgets/controls",
      "_model_module_version": "1.5.0",
      "_model_name": "DescriptionStyleModel",
      "_view_count": null,
      "_view_module": "@jupyter-widgets/base",
      "_view_module_version": "1.2.0",
      "_view_name": "StyleView",
      "description_width": ""
     }
    },
    "237d834d5fd74efa947683722d3e0e37": {
     "model_module": "@jupyter-widgets/controls",
     "model_module_version": "1.5.0",
     "model_name": "FloatProgressModel",
     "state": {
      "_dom_classes": [],
      "_model_module": "@jupyter-widgets/controls",
      "_model_module_version": "1.5.0",
      "_model_name": "FloatProgressModel",
      "_view_count": null,
      "_view_module": "@jupyter-widgets/controls",
      "_view_module_version": "1.5.0",
      "_view_name": "ProgressView",
      "bar_style": "success",
      "description": "",
      "description_tooltip": null,
      "layout": "IPY_MODEL_c893fabe4af6410d837a0bd191df61d9",
      "max": 1648877,
      "min": 0,
      "orientation": "horizontal",
      "style": "IPY_MODEL_f86c7ffecc394345a4eeb587cfd404d1",
      "value": 1648877
     }
    },
    "23dbd6346f684afebcc4ea0d3e72a67e": {
     "model_module": "@jupyter-widgets/controls",
     "model_module_version": "1.5.0",
     "model_name": "HBoxModel",
     "state": {
      "_dom_classes": [],
      "_model_module": "@jupyter-widgets/controls",
      "_model_module_version": "1.5.0",
      "_model_name": "HBoxModel",
      "_view_count": null,
      "_view_module": "@jupyter-widgets/controls",
      "_view_module_version": "1.5.0",
      "_view_name": "HBoxView",
      "box_style": "",
      "children": [
       "IPY_MODEL_3b090dcf208c4822892a0afc2ba2e6a9",
       "IPY_MODEL_d0a2f52a311541a686f592a985e1aac0",
       "IPY_MODEL_41e329d1bd764c7cad4d2e834df50cd9"
      ],
      "layout": "IPY_MODEL_e85d5726a566462e962baa75f32074d6"
     }
    },
    "26d0390ad17048799741582271721a3e": {
     "model_module": "@jupyter-widgets/base",
     "model_module_version": "1.2.0",
     "model_name": "LayoutModel",
     "state": {
      "_model_module": "@jupyter-widgets/base",
      "_model_module_version": "1.2.0",
      "_model_name": "LayoutModel",
      "_view_count": null,
      "_view_module": "@jupyter-widgets/base",
      "_view_module_version": "1.2.0",
      "_view_name": "LayoutView",
      "align_content": null,
      "align_items": null,
      "align_self": null,
      "border": null,
      "bottom": null,
      "display": null,
      "flex": null,
      "flex_flow": null,
      "grid_area": null,
      "grid_auto_columns": null,
      "grid_auto_flow": null,
      "grid_auto_rows": null,
      "grid_column": null,
      "grid_gap": null,
      "grid_row": null,
      "grid_template_areas": null,
      "grid_template_columns": null,
      "grid_template_rows": null,
      "height": null,
      "justify_content": null,
      "justify_items": null,
      "left": null,
      "margin": null,
      "max_height": null,
      "max_width": null,
      "min_height": null,
      "min_width": null,
      "object_fit": null,
      "object_position": null,
      "order": null,
      "overflow": null,
      "overflow_x": null,
      "overflow_y": null,
      "padding": null,
      "right": null,
      "top": null,
      "visibility": null,
      "width": null
     }
    },
    "29be09a9c5344928a9d2dda75ed8680c": {
     "model_module": "@jupyter-widgets/controls",
     "model_module_version": "1.5.0",
     "model_name": "HTMLModel",
     "state": {
      "_dom_classes": [],
      "_model_module": "@jupyter-widgets/controls",
      "_model_module_version": "1.5.0",
      "_model_name": "HTMLModel",
      "_view_count": null,
      "_view_module": "@jupyter-widgets/controls",
      "_view_module_version": "1.5.0",
      "_view_name": "HTMLView",
      "description": "",
      "description_tooltip": null,
      "layout": "IPY_MODEL_45f166ea914e49c5bcf2ec39a649e351",
      "placeholder": "​",
      "style": "IPY_MODEL_f69883e80817409c9a10a2ec6d6ef68c",
      "value": " 1649664/? [00:00&lt;00:00, 6011445.81it/s]"
     }
    },
    "30b8e4960e564891ad81ac242c228b25": {
     "model_module": "@jupyter-widgets/controls",
     "model_module_version": "1.5.0",
     "model_name": "HTMLModel",
     "state": {
      "_dom_classes": [],
      "_model_module": "@jupyter-widgets/controls",
      "_model_module_version": "1.5.0",
      "_model_name": "HTMLModel",
      "_view_count": null,
      "_view_module": "@jupyter-widgets/controls",
      "_view_module_version": "1.5.0",
      "_view_name": "HTMLView",
      "description": "",
      "description_tooltip": null,
      "layout": "IPY_MODEL_a8e8fb1c355445698cbc828dddffb9e5",
      "placeholder": "​",
      "style": "IPY_MODEL_d274e40c0adb4d3e80e8d1cf5ad475ee",
      "value": ""
     }
    },
    "32bd67ddf3a44b879cb123aa797627c0": {
     "model_module": "@jupyter-widgets/controls",
     "model_module_version": "1.5.0",
     "model_name": "HTMLModel",
     "state": {
      "_dom_classes": [],
      "_model_module": "@jupyter-widgets/controls",
      "_model_module_version": "1.5.0",
      "_model_name": "HTMLModel",
      "_view_count": null,
      "_view_module": "@jupyter-widgets/controls",
      "_view_module_version": "1.5.0",
      "_view_name": "HTMLView",
      "description": "",
      "description_tooltip": null,
      "layout": "IPY_MODEL_e81b4f6589d649758fd2cd18da8ab35f",
      "placeholder": "​",
      "style": "IPY_MODEL_7584295a605c4a99a4dccce31be4cb2d",
      "value": ""
     }
    },
    "34e1a2b9f934411090026a0ee98a3b5b": {
     "model_module": "@jupyter-widgets/base",
     "model_module_version": "1.2.0",
     "model_name": "LayoutModel",
     "state": {
      "_model_module": "@jupyter-widgets/base",
      "_model_module_version": "1.2.0",
      "_model_name": "LayoutModel",
      "_view_count": null,
      "_view_module": "@jupyter-widgets/base",
      "_view_module_version": "1.2.0",
      "_view_name": "LayoutView",
      "align_content": null,
      "align_items": null,
      "align_self": null,
      "border": null,
      "bottom": null,
      "display": null,
      "flex": null,
      "flex_flow": null,
      "grid_area": null,
      "grid_auto_columns": null,
      "grid_auto_flow": null,
      "grid_auto_rows": null,
      "grid_column": null,
      "grid_gap": null,
      "grid_row": null,
      "grid_template_areas": null,
      "grid_template_columns": null,
      "grid_template_rows": null,
      "height": null,
      "justify_content": null,
      "justify_items": null,
      "left": null,
      "margin": null,
      "max_height": null,
      "max_width": null,
      "min_height": null,
      "min_width": null,
      "object_fit": null,
      "object_position": null,
      "order": null,
      "overflow": null,
      "overflow_x": null,
      "overflow_y": null,
      "padding": null,
      "right": null,
      "top": null,
      "visibility": null,
      "width": null
     }
    },
    "364f865b5e334ac6add27ef1a32b8173": {
     "model_module": "@jupyter-widgets/base",
     "model_module_version": "1.2.0",
     "model_name": "LayoutModel",
     "state": {
      "_model_module": "@jupyter-widgets/base",
      "_model_module_version": "1.2.0",
      "_model_name": "LayoutModel",
      "_view_count": null,
      "_view_module": "@jupyter-widgets/base",
      "_view_module_version": "1.2.0",
      "_view_name": "LayoutView",
      "align_content": null,
      "align_items": null,
      "align_self": null,
      "border": null,
      "bottom": null,
      "display": null,
      "flex": null,
      "flex_flow": null,
      "grid_area": null,
      "grid_auto_columns": null,
      "grid_auto_flow": null,
      "grid_auto_rows": null,
      "grid_column": null,
      "grid_gap": null,
      "grid_row": null,
      "grid_template_areas": null,
      "grid_template_columns": null,
      "grid_template_rows": null,
      "height": null,
      "justify_content": null,
      "justify_items": null,
      "left": null,
      "margin": null,
      "max_height": null,
      "max_width": null,
      "min_height": null,
      "min_width": null,
      "object_fit": null,
      "object_position": null,
      "order": null,
      "overflow": null,
      "overflow_x": null,
      "overflow_y": null,
      "padding": null,
      "right": null,
      "top": null,
      "visibility": null,
      "width": null
     }
    },
    "393cc69622f3428fba3e10886e5ab65d": {
     "model_module": "@jupyter-widgets/base",
     "model_module_version": "1.2.0",
     "model_name": "LayoutModel",
     "state": {
      "_model_module": "@jupyter-widgets/base",
      "_model_module_version": "1.2.0",
      "_model_name": "LayoutModel",
      "_view_count": null,
      "_view_module": "@jupyter-widgets/base",
      "_view_module_version": "1.2.0",
      "_view_name": "LayoutView",
      "align_content": null,
      "align_items": null,
      "align_self": null,
      "border": null,
      "bottom": null,
      "display": null,
      "flex": null,
      "flex_flow": null,
      "grid_area": null,
      "grid_auto_columns": null,
      "grid_auto_flow": null,
      "grid_auto_rows": null,
      "grid_column": null,
      "grid_gap": null,
      "grid_row": null,
      "grid_template_areas": null,
      "grid_template_columns": null,
      "grid_template_rows": null,
      "height": null,
      "justify_content": null,
      "justify_items": null,
      "left": null,
      "margin": null,
      "max_height": null,
      "max_width": null,
      "min_height": null,
      "min_width": null,
      "object_fit": null,
      "object_position": null,
      "order": null,
      "overflow": null,
      "overflow_x": null,
      "overflow_y": null,
      "padding": null,
      "right": null,
      "top": null,
      "visibility": null,
      "width": null
     }
    },
    "3b090dcf208c4822892a0afc2ba2e6a9": {
     "model_module": "@jupyter-widgets/controls",
     "model_module_version": "1.5.0",
     "model_name": "HTMLModel",
     "state": {
      "_dom_classes": [],
      "_model_module": "@jupyter-widgets/controls",
      "_model_module_version": "1.5.0",
      "_model_name": "HTMLModel",
      "_view_count": null,
      "_view_module": "@jupyter-widgets/controls",
      "_view_module_version": "1.5.0",
      "_view_name": "HTMLView",
      "description": "",
      "description_tooltip": null,
      "layout": "IPY_MODEL_b6d2f65a2e644523b7ecc6e3e9e17de3",
      "placeholder": "​",
      "style": "IPY_MODEL_5de520efee524ca28ed5b1b42861bef7",
      "value": ""
     }
    },
    "3f37e8639ddd4a6eac44420ce3275cd7": {
     "model_module": "@jupyter-widgets/base",
     "model_module_version": "1.2.0",
     "model_name": "LayoutModel",
     "state": {
      "_model_module": "@jupyter-widgets/base",
      "_model_module_version": "1.2.0",
      "_model_name": "LayoutModel",
      "_view_count": null,
      "_view_module": "@jupyter-widgets/base",
      "_view_module_version": "1.2.0",
      "_view_name": "LayoutView",
      "align_content": null,
      "align_items": null,
      "align_self": null,
      "border": null,
      "bottom": null,
      "display": null,
      "flex": null,
      "flex_flow": null,
      "grid_area": null,
      "grid_auto_columns": null,
      "grid_auto_flow": null,
      "grid_auto_rows": null,
      "grid_column": null,
      "grid_gap": null,
      "grid_row": null,
      "grid_template_areas": null,
      "grid_template_columns": null,
      "grid_template_rows": null,
      "height": null,
      "justify_content": null,
      "justify_items": null,
      "left": null,
      "margin": null,
      "max_height": null,
      "max_width": null,
      "min_height": null,
      "min_width": null,
      "object_fit": null,
      "object_position": null,
      "order": null,
      "overflow": null,
      "overflow_x": null,
      "overflow_y": null,
      "padding": null,
      "right": null,
      "top": null,
      "visibility": null,
      "width": null
     }
    },
    "41e329d1bd764c7cad4d2e834df50cd9": {
     "model_module": "@jupyter-widgets/controls",
     "model_module_version": "1.5.0",
     "model_name": "HTMLModel",
     "state": {
      "_dom_classes": [],
      "_model_module": "@jupyter-widgets/controls",
      "_model_module_version": "1.5.0",
      "_model_name": "HTMLModel",
      "_view_count": null,
      "_view_module": "@jupyter-widgets/controls",
      "_view_module_version": "1.5.0",
      "_view_name": "HTMLView",
      "description": "",
      "description_tooltip": null,
      "layout": "IPY_MODEL_26d0390ad17048799741582271721a3e",
      "placeholder": "​",
      "style": "IPY_MODEL_c168c7416db742f5bc74d45fe4a9bf05",
      "value": " 29696/? [00:00&lt;00:00, 1002987.94it/s]"
     }
    },
    "45f166ea914e49c5bcf2ec39a649e351": {
     "model_module": "@jupyter-widgets/base",
     "model_module_version": "1.2.0",
     "model_name": "LayoutModel",
     "state": {
      "_model_module": "@jupyter-widgets/base",
      "_model_module_version": "1.2.0",
      "_model_name": "LayoutModel",
      "_view_count": null,
      "_view_module": "@jupyter-widgets/base",
      "_view_module_version": "1.2.0",
      "_view_name": "LayoutView",
      "align_content": null,
      "align_items": null,
      "align_self": null,
      "border": null,
      "bottom": null,
      "display": null,
      "flex": null,
      "flex_flow": null,
      "grid_area": null,
      "grid_auto_columns": null,
      "grid_auto_flow": null,
      "grid_auto_rows": null,
      "grid_column": null,
      "grid_gap": null,
      "grid_row": null,
      "grid_template_areas": null,
      "grid_template_columns": null,
      "grid_template_rows": null,
      "height": null,
      "justify_content": null,
      "justify_items": null,
      "left": null,
      "margin": null,
      "max_height": null,
      "max_width": null,
      "min_height": null,
      "min_width": null,
      "object_fit": null,
      "object_position": null,
      "order": null,
      "overflow": null,
      "overflow_x": null,
      "overflow_y": null,
      "padding": null,
      "right": null,
      "top": null,
      "visibility": null,
      "width": null
     }
    },
    "4abe9a5443514e00a536c839a9a5e04d": {
     "model_module": "@jupyter-widgets/controls",
     "model_module_version": "1.5.0",
     "model_name": "ProgressStyleModel",
     "state": {
      "_model_module": "@jupyter-widgets/controls",
      "_model_module_version": "1.5.0",
      "_model_name": "ProgressStyleModel",
      "_view_count": null,
      "_view_module": "@jupyter-widgets/base",
      "_view_module_version": "1.2.0",
      "_view_name": "StyleView",
      "bar_color": null,
      "description_width": ""
     }
    },
    "5335eb0e67f84c85b9efacc7793d24fd": {
     "model_module": "@jupyter-widgets/controls",
     "model_module_version": "1.5.0",
     "model_name": "DescriptionStyleModel",
     "state": {
      "_model_module": "@jupyter-widgets/controls",
      "_model_module_version": "1.5.0",
      "_model_name": "DescriptionStyleModel",
      "_view_count": null,
      "_view_module": "@jupyter-widgets/base",
      "_view_module_version": "1.2.0",
      "_view_name": "StyleView",
      "description_width": ""
     }
    },
    "5953a85cd7334c828cf5005b2807fa41": {
     "model_module": "@jupyter-widgets/controls",
     "model_module_version": "1.5.0",
     "model_name": "HTMLModel",
     "state": {
      "_dom_classes": [],
      "_model_module": "@jupyter-widgets/controls",
      "_model_module_version": "1.5.0",
      "_model_name": "HTMLModel",
      "_view_count": null,
      "_view_module": "@jupyter-widgets/controls",
      "_view_module_version": "1.5.0",
      "_view_name": "HTMLView",
      "description": "",
      "description_tooltip": null,
      "layout": "IPY_MODEL_364f865b5e334ac6add27ef1a32b8173",
      "placeholder": "​",
      "style": "IPY_MODEL_18acae4757154a10a7e2b9ebe4fbd53b",
      "value": ""
     }
    },
    "5de520efee524ca28ed5b1b42861bef7": {
     "model_module": "@jupyter-widgets/controls",
     "model_module_version": "1.5.0",
     "model_name": "DescriptionStyleModel",
     "state": {
      "_model_module": "@jupyter-widgets/controls",
      "_model_module_version": "1.5.0",
      "_model_name": "DescriptionStyleModel",
      "_view_count": null,
      "_view_module": "@jupyter-widgets/base",
      "_view_module_version": "1.2.0",
      "_view_name": "StyleView",
      "description_width": ""
     }
    },
    "694229176eb84488811763e57ccdbd9f": {
     "model_module": "@jupyter-widgets/base",
     "model_module_version": "1.2.0",
     "model_name": "LayoutModel",
     "state": {
      "_model_module": "@jupyter-widgets/base",
      "_model_module_version": "1.2.0",
      "_model_name": "LayoutModel",
      "_view_count": null,
      "_view_module": "@jupyter-widgets/base",
      "_view_module_version": "1.2.0",
      "_view_name": "LayoutView",
      "align_content": null,
      "align_items": null,
      "align_self": null,
      "border": null,
      "bottom": null,
      "display": null,
      "flex": null,
      "flex_flow": null,
      "grid_area": null,
      "grid_auto_columns": null,
      "grid_auto_flow": null,
      "grid_auto_rows": null,
      "grid_column": null,
      "grid_gap": null,
      "grid_row": null,
      "grid_template_areas": null,
      "grid_template_columns": null,
      "grid_template_rows": null,
      "height": null,
      "justify_content": null,
      "justify_items": null,
      "left": null,
      "margin": null,
      "max_height": null,
      "max_width": null,
      "min_height": null,
      "min_width": null,
      "object_fit": null,
      "object_position": null,
      "order": null,
      "overflow": null,
      "overflow_x": null,
      "overflow_y": null,
      "padding": null,
      "right": null,
      "top": null,
      "visibility": null,
      "width": null
     }
    },
    "7584295a605c4a99a4dccce31be4cb2d": {
     "model_module": "@jupyter-widgets/controls",
     "model_module_version": "1.5.0",
     "model_name": "DescriptionStyleModel",
     "state": {
      "_model_module": "@jupyter-widgets/controls",
      "_model_module_version": "1.5.0",
      "_model_name": "DescriptionStyleModel",
      "_view_count": null,
      "_view_module": "@jupyter-widgets/base",
      "_view_module_version": "1.2.0",
      "_view_name": "StyleView",
      "description_width": ""
     }
    },
    "7cbce63b72c843e9ad824dce59a7e2fb": {
     "model_module": "@jupyter-widgets/controls",
     "model_module_version": "1.5.0",
     "model_name": "HTMLModel",
     "state": {
      "_dom_classes": [],
      "_model_module": "@jupyter-widgets/controls",
      "_model_module_version": "1.5.0",
      "_model_name": "HTMLModel",
      "_view_count": null,
      "_view_module": "@jupyter-widgets/controls",
      "_view_module_version": "1.5.0",
      "_view_name": "HTMLView",
      "description": "",
      "description_tooltip": null,
      "layout": "IPY_MODEL_393cc69622f3428fba3e10886e5ab65d",
      "placeholder": "​",
      "style": "IPY_MODEL_1c75908cdb0d4909a266ef3f0184c13d",
      "value": " 5120/? [00:00&lt;00:00, 87902.47it/s]"
     }
    },
    "952170c8ff4d4fa9b7141d372b35cdd1": {
     "model_module": "@jupyter-widgets/controls",
     "model_module_version": "1.5.0",
     "model_name": "FloatProgressModel",
     "state": {
      "_dom_classes": [],
      "_model_module": "@jupyter-widgets/controls",
      "_model_module_version": "1.5.0",
      "_model_name": "FloatProgressModel",
      "_view_count": null,
      "_view_module": "@jupyter-widgets/controls",
      "_view_module_version": "1.5.0",
      "_view_name": "ProgressView",
      "bar_style": "success",
      "description": "",
      "description_tooltip": null,
      "layout": "IPY_MODEL_3f37e8639ddd4a6eac44420ce3275cd7",
      "max": 4542,
      "min": 0,
      "orientation": "horizontal",
      "style": "IPY_MODEL_e2b60171e7ca45bea357831419d2f9c6",
      "value": 4542
     }
    },
    "a8e8fb1c355445698cbc828dddffb9e5": {
     "model_module": "@jupyter-widgets/base",
     "model_module_version": "1.2.0",
     "model_name": "LayoutModel",
     "state": {
      "_model_module": "@jupyter-widgets/base",
      "_model_module_version": "1.2.0",
      "_model_name": "LayoutModel",
      "_view_count": null,
      "_view_module": "@jupyter-widgets/base",
      "_view_module_version": "1.2.0",
      "_view_name": "LayoutView",
      "align_content": null,
      "align_items": null,
      "align_self": null,
      "border": null,
      "bottom": null,
      "display": null,
      "flex": null,
      "flex_flow": null,
      "grid_area": null,
      "grid_auto_columns": null,
      "grid_auto_flow": null,
      "grid_auto_rows": null,
      "grid_column": null,
      "grid_gap": null,
      "grid_row": null,
      "grid_template_areas": null,
      "grid_template_columns": null,
      "grid_template_rows": null,
      "height": null,
      "justify_content": null,
      "justify_items": null,
      "left": null,
      "margin": null,
      "max_height": null,
      "max_width": null,
      "min_height": null,
      "min_width": null,
      "object_fit": null,
      "object_position": null,
      "order": null,
      "overflow": null,
      "overflow_x": null,
      "overflow_y": null,
      "padding": null,
      "right": null,
      "top": null,
      "visibility": null,
      "width": null
     }
    },
    "ace3e747ccfd4f9f9faf46ce34936ce1": {
     "model_module": "@jupyter-widgets/controls",
     "model_module_version": "1.5.0",
     "model_name": "HTMLModel",
     "state": {
      "_dom_classes": [],
      "_model_module": "@jupyter-widgets/controls",
      "_model_module_version": "1.5.0",
      "_model_name": "HTMLModel",
      "_view_count": null,
      "_view_module": "@jupyter-widgets/controls",
      "_view_module_version": "1.5.0",
      "_view_name": "HTMLView",
      "description": "",
      "description_tooltip": null,
      "layout": "IPY_MODEL_34e1a2b9f934411090026a0ee98a3b5b",
      "placeholder": "​",
      "style": "IPY_MODEL_5335eb0e67f84c85b9efacc7793d24fd",
      "value": " 9913344/? [00:00&lt;00:00, 30809548.66it/s]"
     }
    },
    "ae65786c8b1e4e789ecb72bcd6b9b211": {
     "model_module": "@jupyter-widgets/controls",
     "model_module_version": "1.5.0",
     "model_name": "HBoxModel",
     "state": {
      "_dom_classes": [],
      "_model_module": "@jupyter-widgets/controls",
      "_model_module_version": "1.5.0",
      "_model_name": "HBoxModel",
      "_view_count": null,
      "_view_module": "@jupyter-widgets/controls",
      "_view_module_version": "1.5.0",
      "_view_name": "HBoxView",
      "box_style": "",
      "children": [
       "IPY_MODEL_5953a85cd7334c828cf5005b2807fa41",
       "IPY_MODEL_952170c8ff4d4fa9b7141d372b35cdd1",
       "IPY_MODEL_7cbce63b72c843e9ad824dce59a7e2fb"
      ],
      "layout": "IPY_MODEL_cfc67a5bebd247838d29b9babacbc103"
     }
    },
    "b2ca643df597463dad1d5efe8abf64c4": {
     "model_module": "@jupyter-widgets/base",
     "model_module_version": "1.2.0",
     "model_name": "LayoutModel",
     "state": {
      "_model_module": "@jupyter-widgets/base",
      "_model_module_version": "1.2.0",
      "_model_name": "LayoutModel",
      "_view_count": null,
      "_view_module": "@jupyter-widgets/base",
      "_view_module_version": "1.2.0",
      "_view_name": "LayoutView",
      "align_content": null,
      "align_items": null,
      "align_self": null,
      "border": null,
      "bottom": null,
      "display": null,
      "flex": null,
      "flex_flow": null,
      "grid_area": null,
      "grid_auto_columns": null,
      "grid_auto_flow": null,
      "grid_auto_rows": null,
      "grid_column": null,
      "grid_gap": null,
      "grid_row": null,
      "grid_template_areas": null,
      "grid_template_columns": null,
      "grid_template_rows": null,
      "height": null,
      "justify_content": null,
      "justify_items": null,
      "left": null,
      "margin": null,
      "max_height": null,
      "max_width": null,
      "min_height": null,
      "min_width": null,
      "object_fit": null,
      "object_position": null,
      "order": null,
      "overflow": null,
      "overflow_x": null,
      "overflow_y": null,
      "padding": null,
      "right": null,
      "top": null,
      "visibility": null,
      "width": null
     }
    },
    "b6d2f65a2e644523b7ecc6e3e9e17de3": {
     "model_module": "@jupyter-widgets/base",
     "model_module_version": "1.2.0",
     "model_name": "LayoutModel",
     "state": {
      "_model_module": "@jupyter-widgets/base",
      "_model_module_version": "1.2.0",
      "_model_name": "LayoutModel",
      "_view_count": null,
      "_view_module": "@jupyter-widgets/base",
      "_view_module_version": "1.2.0",
      "_view_name": "LayoutView",
      "align_content": null,
      "align_items": null,
      "align_self": null,
      "border": null,
      "bottom": null,
      "display": null,
      "flex": null,
      "flex_flow": null,
      "grid_area": null,
      "grid_auto_columns": null,
      "grid_auto_flow": null,
      "grid_auto_rows": null,
      "grid_column": null,
      "grid_gap": null,
      "grid_row": null,
      "grid_template_areas": null,
      "grid_template_columns": null,
      "grid_template_rows": null,
      "height": null,
      "justify_content": null,
      "justify_items": null,
      "left": null,
      "margin": null,
      "max_height": null,
      "max_width": null,
      "min_height": null,
      "min_width": null,
      "object_fit": null,
      "object_position": null,
      "order": null,
      "overflow": null,
      "overflow_x": null,
      "overflow_y": null,
      "padding": null,
      "right": null,
      "top": null,
      "visibility": null,
      "width": null
     }
    },
    "c168c7416db742f5bc74d45fe4a9bf05": {
     "model_module": "@jupyter-widgets/controls",
     "model_module_version": "1.5.0",
     "model_name": "DescriptionStyleModel",
     "state": {
      "_model_module": "@jupyter-widgets/controls",
      "_model_module_version": "1.5.0",
      "_model_name": "DescriptionStyleModel",
      "_view_count": null,
      "_view_module": "@jupyter-widgets/base",
      "_view_module_version": "1.2.0",
      "_view_name": "StyleView",
      "description_width": ""
     }
    },
    "c46454929cae4e89976f42d9bc391a94": {
     "model_module": "@jupyter-widgets/controls",
     "model_module_version": "1.5.0",
     "model_name": "FloatProgressModel",
     "state": {
      "_dom_classes": [],
      "_model_module": "@jupyter-widgets/controls",
      "_model_module_version": "1.5.0",
      "_model_name": "FloatProgressModel",
      "_view_count": null,
      "_view_module": "@jupyter-widgets/controls",
      "_view_module_version": "1.5.0",
      "_view_name": "ProgressView",
      "bar_style": "success",
      "description": "",
      "description_tooltip": null,
      "layout": "IPY_MODEL_dc961678433f488babca027e197d2aa1",
      "max": 9912422,
      "min": 0,
      "orientation": "horizontal",
      "style": "IPY_MODEL_d312e5166b28438da2b9e91de91f0e09",
      "value": 9912422
     }
    },
    "c893fabe4af6410d837a0bd191df61d9": {
     "model_module": "@jupyter-widgets/base",
     "model_module_version": "1.2.0",
     "model_name": "LayoutModel",
     "state": {
      "_model_module": "@jupyter-widgets/base",
      "_model_module_version": "1.2.0",
      "_model_name": "LayoutModel",
      "_view_count": null,
      "_view_module": "@jupyter-widgets/base",
      "_view_module_version": "1.2.0",
      "_view_name": "LayoutView",
      "align_content": null,
      "align_items": null,
      "align_self": null,
      "border": null,
      "bottom": null,
      "display": null,
      "flex": null,
      "flex_flow": null,
      "grid_area": null,
      "grid_auto_columns": null,
      "grid_auto_flow": null,
      "grid_auto_rows": null,
      "grid_column": null,
      "grid_gap": null,
      "grid_row": null,
      "grid_template_areas": null,
      "grid_template_columns": null,
      "grid_template_rows": null,
      "height": null,
      "justify_content": null,
      "justify_items": null,
      "left": null,
      "margin": null,
      "max_height": null,
      "max_width": null,
      "min_height": null,
      "min_width": null,
      "object_fit": null,
      "object_position": null,
      "order": null,
      "overflow": null,
      "overflow_x": null,
      "overflow_y": null,
      "padding": null,
      "right": null,
      "top": null,
      "visibility": null,
      "width": null
     }
    },
    "c8c570bdf96340c1bbf4e612f3d0c3c4": {
     "model_module": "@jupyter-widgets/base",
     "model_module_version": "1.2.0",
     "model_name": "LayoutModel",
     "state": {
      "_model_module": "@jupyter-widgets/base",
      "_model_module_version": "1.2.0",
      "_model_name": "LayoutModel",
      "_view_count": null,
      "_view_module": "@jupyter-widgets/base",
      "_view_module_version": "1.2.0",
      "_view_name": "LayoutView",
      "align_content": null,
      "align_items": null,
      "align_self": null,
      "border": null,
      "bottom": null,
      "display": null,
      "flex": null,
      "flex_flow": null,
      "grid_area": null,
      "grid_auto_columns": null,
      "grid_auto_flow": null,
      "grid_auto_rows": null,
      "grid_column": null,
      "grid_gap": null,
      "grid_row": null,
      "grid_template_areas": null,
      "grid_template_columns": null,
      "grid_template_rows": null,
      "height": null,
      "justify_content": null,
      "justify_items": null,
      "left": null,
      "margin": null,
      "max_height": null,
      "max_width": null,
      "min_height": null,
      "min_width": null,
      "object_fit": null,
      "object_position": null,
      "order": null,
      "overflow": null,
      "overflow_x": null,
      "overflow_y": null,
      "padding": null,
      "right": null,
      "top": null,
      "visibility": null,
      "width": null
     }
    },
    "cfc67a5bebd247838d29b9babacbc103": {
     "model_module": "@jupyter-widgets/base",
     "model_module_version": "1.2.0",
     "model_name": "LayoutModel",
     "state": {
      "_model_module": "@jupyter-widgets/base",
      "_model_module_version": "1.2.0",
      "_model_name": "LayoutModel",
      "_view_count": null,
      "_view_module": "@jupyter-widgets/base",
      "_view_module_version": "1.2.0",
      "_view_name": "LayoutView",
      "align_content": null,
      "align_items": null,
      "align_self": null,
      "border": null,
      "bottom": null,
      "display": null,
      "flex": null,
      "flex_flow": null,
      "grid_area": null,
      "grid_auto_columns": null,
      "grid_auto_flow": null,
      "grid_auto_rows": null,
      "grid_column": null,
      "grid_gap": null,
      "grid_row": null,
      "grid_template_areas": null,
      "grid_template_columns": null,
      "grid_template_rows": null,
      "height": null,
      "justify_content": null,
      "justify_items": null,
      "left": null,
      "margin": null,
      "max_height": null,
      "max_width": null,
      "min_height": null,
      "min_width": null,
      "object_fit": null,
      "object_position": null,
      "order": null,
      "overflow": null,
      "overflow_x": null,
      "overflow_y": null,
      "padding": null,
      "right": null,
      "top": null,
      "visibility": null,
      "width": null
     }
    },
    "d0a2f52a311541a686f592a985e1aac0": {
     "model_module": "@jupyter-widgets/controls",
     "model_module_version": "1.5.0",
     "model_name": "FloatProgressModel",
     "state": {
      "_dom_classes": [],
      "_model_module": "@jupyter-widgets/controls",
      "_model_module_version": "1.5.0",
      "_model_name": "FloatProgressModel",
      "_view_count": null,
      "_view_module": "@jupyter-widgets/controls",
      "_view_module_version": "1.5.0",
      "_view_name": "ProgressView",
      "bar_style": "success",
      "description": "",
      "description_tooltip": null,
      "layout": "IPY_MODEL_b2ca643df597463dad1d5efe8abf64c4",
      "max": 28881,
      "min": 0,
      "orientation": "horizontal",
      "style": "IPY_MODEL_4abe9a5443514e00a536c839a9a5e04d",
      "value": 28881
     }
    },
    "d274e40c0adb4d3e80e8d1cf5ad475ee": {
     "model_module": "@jupyter-widgets/controls",
     "model_module_version": "1.5.0",
     "model_name": "DescriptionStyleModel",
     "state": {
      "_model_module": "@jupyter-widgets/controls",
      "_model_module_version": "1.5.0",
      "_model_name": "DescriptionStyleModel",
      "_view_count": null,
      "_view_module": "@jupyter-widgets/base",
      "_view_module_version": "1.2.0",
      "_view_name": "StyleView",
      "description_width": ""
     }
    },
    "d312e5166b28438da2b9e91de91f0e09": {
     "model_module": "@jupyter-widgets/controls",
     "model_module_version": "1.5.0",
     "model_name": "ProgressStyleModel",
     "state": {
      "_model_module": "@jupyter-widgets/controls",
      "_model_module_version": "1.5.0",
      "_model_name": "ProgressStyleModel",
      "_view_count": null,
      "_view_module": "@jupyter-widgets/base",
      "_view_module_version": "1.2.0",
      "_view_name": "StyleView",
      "bar_color": null,
      "description_width": ""
     }
    },
    "dc961678433f488babca027e197d2aa1": {
     "model_module": "@jupyter-widgets/base",
     "model_module_version": "1.2.0",
     "model_name": "LayoutModel",
     "state": {
      "_model_module": "@jupyter-widgets/base",
      "_model_module_version": "1.2.0",
      "_model_name": "LayoutModel",
      "_view_count": null,
      "_view_module": "@jupyter-widgets/base",
      "_view_module_version": "1.2.0",
      "_view_name": "LayoutView",
      "align_content": null,
      "align_items": null,
      "align_self": null,
      "border": null,
      "bottom": null,
      "display": null,
      "flex": null,
      "flex_flow": null,
      "grid_area": null,
      "grid_auto_columns": null,
      "grid_auto_flow": null,
      "grid_auto_rows": null,
      "grid_column": null,
      "grid_gap": null,
      "grid_row": null,
      "grid_template_areas": null,
      "grid_template_columns": null,
      "grid_template_rows": null,
      "height": null,
      "justify_content": null,
      "justify_items": null,
      "left": null,
      "margin": null,
      "max_height": null,
      "max_width": null,
      "min_height": null,
      "min_width": null,
      "object_fit": null,
      "object_position": null,
      "order": null,
      "overflow": null,
      "overflow_x": null,
      "overflow_y": null,
      "padding": null,
      "right": null,
      "top": null,
      "visibility": null,
      "width": null
     }
    },
    "ddcca6cc591f45a887f80bcc5d27ce13": {
     "model_module": "@jupyter-widgets/controls",
     "model_module_version": "1.5.0",
     "model_name": "HBoxModel",
     "state": {
      "_dom_classes": [],
      "_model_module": "@jupyter-widgets/controls",
      "_model_module_version": "1.5.0",
      "_model_name": "HBoxModel",
      "_view_count": null,
      "_view_module": "@jupyter-widgets/controls",
      "_view_module_version": "1.5.0",
      "_view_name": "HBoxView",
      "box_style": "",
      "children": [
       "IPY_MODEL_30b8e4960e564891ad81ac242c228b25",
       "IPY_MODEL_c46454929cae4e89976f42d9bc391a94",
       "IPY_MODEL_ace3e747ccfd4f9f9faf46ce34936ce1"
      ],
      "layout": "IPY_MODEL_c8c570bdf96340c1bbf4e612f3d0c3c4"
     }
    },
    "e2b60171e7ca45bea357831419d2f9c6": {
     "model_module": "@jupyter-widgets/controls",
     "model_module_version": "1.5.0",
     "model_name": "ProgressStyleModel",
     "state": {
      "_model_module": "@jupyter-widgets/controls",
      "_model_module_version": "1.5.0",
      "_model_name": "ProgressStyleModel",
      "_view_count": null,
      "_view_module": "@jupyter-widgets/base",
      "_view_module_version": "1.2.0",
      "_view_name": "StyleView",
      "bar_color": null,
      "description_width": ""
     }
    },
    "e81b4f6589d649758fd2cd18da8ab35f": {
     "model_module": "@jupyter-widgets/base",
     "model_module_version": "1.2.0",
     "model_name": "LayoutModel",
     "state": {
      "_model_module": "@jupyter-widgets/base",
      "_model_module_version": "1.2.0",
      "_model_name": "LayoutModel",
      "_view_count": null,
      "_view_module": "@jupyter-widgets/base",
      "_view_module_version": "1.2.0",
      "_view_name": "LayoutView",
      "align_content": null,
      "align_items": null,
      "align_self": null,
      "border": null,
      "bottom": null,
      "display": null,
      "flex": null,
      "flex_flow": null,
      "grid_area": null,
      "grid_auto_columns": null,
      "grid_auto_flow": null,
      "grid_auto_rows": null,
      "grid_column": null,
      "grid_gap": null,
      "grid_row": null,
      "grid_template_areas": null,
      "grid_template_columns": null,
      "grid_template_rows": null,
      "height": null,
      "justify_content": null,
      "justify_items": null,
      "left": null,
      "margin": null,
      "max_height": null,
      "max_width": null,
      "min_height": null,
      "min_width": null,
      "object_fit": null,
      "object_position": null,
      "order": null,
      "overflow": null,
      "overflow_x": null,
      "overflow_y": null,
      "padding": null,
      "right": null,
      "top": null,
      "visibility": null,
      "width": null
     }
    },
    "e85d5726a566462e962baa75f32074d6": {
     "model_module": "@jupyter-widgets/base",
     "model_module_version": "1.2.0",
     "model_name": "LayoutModel",
     "state": {
      "_model_module": "@jupyter-widgets/base",
      "_model_module_version": "1.2.0",
      "_model_name": "LayoutModel",
      "_view_count": null,
      "_view_module": "@jupyter-widgets/base",
      "_view_module_version": "1.2.0",
      "_view_name": "LayoutView",
      "align_content": null,
      "align_items": null,
      "align_self": null,
      "border": null,
      "bottom": null,
      "display": null,
      "flex": null,
      "flex_flow": null,
      "grid_area": null,
      "grid_auto_columns": null,
      "grid_auto_flow": null,
      "grid_auto_rows": null,
      "grid_column": null,
      "grid_gap": null,
      "grid_row": null,
      "grid_template_areas": null,
      "grid_template_columns": null,
      "grid_template_rows": null,
      "height": null,
      "justify_content": null,
      "justify_items": null,
      "left": null,
      "margin": null,
      "max_height": null,
      "max_width": null,
      "min_height": null,
      "min_width": null,
      "object_fit": null,
      "object_position": null,
      "order": null,
      "overflow": null,
      "overflow_x": null,
      "overflow_y": null,
      "padding": null,
      "right": null,
      "top": null,
      "visibility": null,
      "width": null
     }
    },
    "f314f3212d8f49468ccce3ad1cb8af6e": {
     "model_module": "@jupyter-widgets/controls",
     "model_module_version": "1.5.0",
     "model_name": "HBoxModel",
     "state": {
      "_dom_classes": [],
      "_model_module": "@jupyter-widgets/controls",
      "_model_module_version": "1.5.0",
      "_model_name": "HBoxModel",
      "_view_count": null,
      "_view_module": "@jupyter-widgets/controls",
      "_view_module_version": "1.5.0",
      "_view_name": "HBoxView",
      "box_style": "",
      "children": [
       "IPY_MODEL_32bd67ddf3a44b879cb123aa797627c0",
       "IPY_MODEL_237d834d5fd74efa947683722d3e0e37",
       "IPY_MODEL_29be09a9c5344928a9d2dda75ed8680c"
      ],
      "layout": "IPY_MODEL_694229176eb84488811763e57ccdbd9f"
     }
    },
    "f69883e80817409c9a10a2ec6d6ef68c": {
     "model_module": "@jupyter-widgets/controls",
     "model_module_version": "1.5.0",
     "model_name": "DescriptionStyleModel",
     "state": {
      "_model_module": "@jupyter-widgets/controls",
      "_model_module_version": "1.5.0",
      "_model_name": "DescriptionStyleModel",
      "_view_count": null,
      "_view_module": "@jupyter-widgets/base",
      "_view_module_version": "1.2.0",
      "_view_name": "StyleView",
      "description_width": ""
     }
    },
    "f86c7ffecc394345a4eeb587cfd404d1": {
     "model_module": "@jupyter-widgets/controls",
     "model_module_version": "1.5.0",
     "model_name": "ProgressStyleModel",
     "state": {
      "_model_module": "@jupyter-widgets/controls",
      "_model_module_version": "1.5.0",
      "_model_name": "ProgressStyleModel",
      "_view_count": null,
      "_view_module": "@jupyter-widgets/base",
      "_view_module_version": "1.2.0",
      "_view_name": "StyleView",
      "bar_color": null,
      "description_width": ""
     }
    }
   }
  }
 },
 "nbformat": 4,
 "nbformat_minor": 4
}
